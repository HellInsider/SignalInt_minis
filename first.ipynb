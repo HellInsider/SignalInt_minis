{
 "cells": [
  {
   "cell_type": "markdown",
   "metadata": {},
   "source": [
    "# Первая лабораторная\n",
    "\n",
    "Лабораторная состоит из гайда по работе с изображениями и видео на Python и пяти заданий:\n",
    "* [Задание 1](#Задание-1.) - подбор двух изображений;\n",
    "* [Задание 2](#Задание-2.) - нахождение параметра детектора границ;\n",
    "* [Задание 3](#Задание-3.) - поиск разделяющего правила;\n",
    "* [Задание 4](#Задание-4.) - обычная бинаризация;\n",
    "* [Задание 5](#Задание-5.) - локальная бинаризация.\n",
    "\n",
    "Сначала рекомендуется ознакомиться с гайдом, после чего выполнять задания.\n",
    "\n",
    "## 0. Jupyter\n",
    "\n",
    "Jupyter - интерактивная среда, позволяющая хранить код, текст, графику и результаты выполнения кода в одном месте - ноутбуке.\n",
    "\n",
    "Ноутбук разбит на ячейки двух типов: `Markdown` - для текста, и `Code` - с кодом и результатом выполнения, в т.ч. с графиками. Чтобы запустить код в определённой ячейке, её нужно выделить и нажать `Run` (Shift+Enter). Если изменить код ячейки, но не перезапустить её, результат не изменится.\n",
    "\n",
    "В ячейках с кодом можно использовать язык Python с расширениями. Команда вызова расширения как правило начинается с `%`.\n",
    "Также встроенным редактором кода поддерживается автодополнение по клавише `Tab`.\n",
    "\n",
    "Для вывода графики будем использовать `matplotlib`. Подключим его, попутно измерив время подключения пакета:"
   ]
  },
  {
   "cell_type": "code",
   "execution_count": null,
   "metadata": {},
   "outputs": [],
   "source": [
    "%%time\n",
    "from matplotlib import pyplot as plt"
   ]
  },
  {
   "cell_type": "markdown",
   "metadata": {},
   "source": [
    "Все графики matplotlib будут выводиться под кодом. Например, вот пример кода для вывода графика $f(x)=x^2$:"
   ]
  },
  {
   "cell_type": "code",
   "execution_count": null,
   "metadata": {},
   "outputs": [],
   "source": [
    "plt.plot(range(100), [i ** 2 for i in range(100)])"
   ]
  },
  {
   "cell_type": "markdown",
   "metadata": {},
   "source": [
    "## 1. NumPy\n",
    "NumPy - пакет, позволяющий хранить / выполнять быстрые операции над матрицами и тензорами в Python, решать системы линейных уравнений, находить псевдообратные матрицы и т.п."
   ]
  },
  {
   "cell_type": "code",
   "execution_count": null,
   "metadata": {},
   "outputs": [],
   "source": [
    "import numpy as np"
   ]
  },
  {
   "cell_type": "markdown",
   "metadata": {},
   "source": [
    "### Работа с многомерными массивами\n",
    "\n",
    "Массив в NumPy характеризуется:\n",
    "* типом значений (dtype);\n",
    "* числом осей (ndim);\n",
    "* размерностью (shape) - то есть числом элементов по каждой оси.\n",
    "\n",
    "Важно, что массивы в NumPy (объекты numpy.ndarray) обычно лежат в памяти линейно.\n",
    "\n",
    "Массивы можно создавать из списков (python list).\n",
    "\n",
    "Также, есть методы для создания пустых, единичных, заполненных константой матриц и др.\n",
    "\n",
    "Например, создание матрицы *3x5*, заполненной единицами, выглядит следующим образом:"
   ]
  },
  {
   "cell_type": "code",
   "execution_count": null,
   "metadata": {},
   "outputs": [],
   "source": [
    "a = np.ones((3, 5))"
   ]
  },
  {
   "cell_type": "markdown",
   "metadata": {},
   "source": [
    "Где `(3, 5)` (скобки обязательны) - кортеж (python tuple) с количествами элементов по осям."
   ]
  },
  {
   "cell_type": "code",
   "execution_count": null,
   "metadata": {
    "scrolled": true
   },
   "outputs": [],
   "source": [
    "print(f\"Тип значений: {a.dtype}, число осей: {a.ndim}, размерности: {a.shape}\")\n",
    "print(a)"
   ]
  },
  {
   "cell_type": "markdown",
   "metadata": {},
   "source": [
    "Доступ к элементам массива осуществляется следующим образом:"
   ]
  },
  {
   "cell_type": "code",
   "execution_count": null,
   "metadata": {},
   "outputs": [],
   "source": [
    "print(f\"Первый элемент первой строки: {a[0, 0]}\")\n",
    "print(f\"Весь второй столбец: {a[:, 1]}\")"
   ]
  },
  {
   "cell_type": "markdown",
   "metadata": {},
   "source": [
    "Также можно изменять элементы, например:"
   ]
  },
  {
   "cell_type": "code",
   "execution_count": null,
   "metadata": {},
   "outputs": [],
   "source": [
    "a[:, 1] = [2, 3, 4]\n",
    "print(a)"
   ]
  },
  {
   "cell_type": "markdown",
   "metadata": {},
   "source": [
    "Размерности массива можно менять, при этом память под новый массив не выделяется:"
   ]
  },
  {
   "cell_type": "code",
   "execution_count": null,
   "metadata": {},
   "outputs": [],
   "source": [
    "b = a.reshape((5, 3))\n",
    "b[1, 1] = 0\n",
    "print(b)"
   ]
  },
  {
   "cell_type": "markdown",
   "metadata": {},
   "source": [
    "Был изменён элемент матрицы `b`, но `a` тоже поменялась:"
   ]
  },
  {
   "cell_type": "code",
   "execution_count": null,
   "metadata": {},
   "outputs": [],
   "source": [
    "print(a)"
   ]
  },
  {
   "cell_type": "markdown",
   "metadata": {},
   "source": [
    "Чтобы избежать такого эффекта можно создать *глубокую* копию:"
   ]
  },
  {
   "cell_type": "code",
   "execution_count": null,
   "metadata": {},
   "outputs": [],
   "source": [
    "c = a.copy()\n",
    "c[0, 4] = 1"
   ]
  },
  {
   "cell_type": "code",
   "execution_count": null,
   "metadata": {},
   "outputs": [],
   "source": [
    "print(a)\n",
    "print(c)"
   ]
  },
  {
   "cell_type": "markdown",
   "metadata": {},
   "source": [
    "Заметим, что поменялась только матрица **c**.\n",
    "\n",
    "Существует также метод намеренного создания наоборот *слабой* копии: `view()`, чтобы избегать лишнего копирования данных, когда такое поведение допустимо."
   ]
  },
  {
   "cell_type": "markdown",
   "metadata": {},
   "source": [
    "При работе с матрицами больших размеров нужно стараться применять методы NumPy,\n",
    "вместо написания своих циклов обработки на Python, поскольку, как правило, время работы готовых методов\n",
    "в разы меньше, а код более выразительный. Так, например, искать индексы истинных (True) элементов матрицы можно с помощью `np.where`,\n",
    "извлекать диагональ матрицы – с помощью `np.diag`, и т.д.\n",
    "Список доступных методов можно посмотреть в [документации](https://docs.scipy.org/doc/numpy/reference/)."
   ]
  },
  {
   "cell_type": "markdown",
   "metadata": {},
   "source": [
    "Важно, что произведение матриц по умолчанию выполняется **поэлементно**. Если размерности матриц совпадают лишь частично, применяются правила [трансляции (broadcasting)](https://docs.scipy.org/doc/numpy/user/basics.broadcasting.html):"
   ]
  },
  {
   "cell_type": "code",
   "execution_count": null,
   "metadata": {},
   "outputs": [],
   "source": [
    "A = np.array([[1, 2], [3, 4]])\n",
    "x = np.array([5, 6]).reshape((1, 2))\n",
    "\n",
    "print(\"A:\\n\", A)\n",
    "print(\"x:\\n\", x, \"\\n\")\n",
    "print(\"A * x:\\n\", A * x, \"\\n\")\n",
    "print(\"x^T:\\n\", x.T, \"\\n\")\n",
    "print(\"A * x^T:\\n\", A * x.T)"
   ]
  },
  {
   "cell_type": "markdown",
   "metadata": {},
   "source": [
    "В первом случае `x` имеет размерность `(1, 2)` и рассматривается как строка. Поскольку размерности матрицы `A` и `x` не совпадают, и одна из размерностей `x` равна `1`, то результат `A * x` – поэлементное произведение каждой строки `A` на строку `x`.\n",
    "\n",
    "Если умножить `A` на матрицу-столбец `x.T`, имеющую размерность `(2, 1)`, то результат `A * x` – поэлементное произведение каждого столбца `A` на столбец `x.T`."
   ]
  },
  {
   "cell_type": "markdown",
   "metadata": {},
   "source": [
    "Когда требуется использовать матричное произведение, применяют метод `dot` или оператор 'at' `@`:"
   ]
  },
  {
   "cell_type": "code",
   "execution_count": null,
   "metadata": {},
   "outputs": [],
   "source": [
    "print(\"x `dot` A:\\n\", x.dot(A), \"\\n\")\n",
    "print(\"A `dot` x.T:\\n\", A.dot(x.T))\n",
    "print(\"A @ x.T:\\n\", A @ x.T)"
   ]
  },
  {
   "cell_type": "markdown",
   "metadata": {},
   "source": [
    "Освежить знания по Python, а также узнать более подробно про NumPy и MatPlotLib можно [здесь](http://cs231n.github.io/python-numpy-tutorial/)."
   ]
  },
  {
   "cell_type": "markdown",
   "metadata": {},
   "source": [
    "## 2. Работа с изображениями"
   ]
  },
  {
   "cell_type": "markdown",
   "metadata": {},
   "source": [
    "Установим библиотеку `imageio`:"
   ]
  },
  {
   "cell_type": "code",
   "execution_count": null,
   "metadata": {},
   "outputs": [],
   "source": [
    "!pip install imageio"
   ]
  },
  {
   "cell_type": "markdown",
   "metadata": {},
   "source": [
    "Загрузим изображение с помощью библиотеки `imageio`:"
   ]
  },
  {
   "cell_type": "code",
   "execution_count": null,
   "metadata": {},
   "outputs": [],
   "source": [
    "from imageio import imread, imsave\n",
    "kitten = imread(\"kitten.jpg\")"
   ]
  },
  {
   "cell_type": "markdown",
   "metadata": {},
   "source": [
    "Изображения представляются массивами numpy с размерностью `(высота, ширина, число каналов)`, где каналы - как правило компоненты RGB.\n",
    "\n",
    "Убедимся в этом, взгялув на размерность загруженного изображения:"
   ]
  },
  {
   "cell_type": "code",
   "execution_count": null,
   "metadata": {
    "scrolled": true
   },
   "outputs": [],
   "source": [
    "print(kitten.shape)"
   ]
  },
  {
   "cell_type": "markdown",
   "metadata": {},
   "source": [
    "Для вывода изображения воспользуемся matplotlib:"
   ]
  },
  {
   "cell_type": "code",
   "execution_count": null,
   "metadata": {
    "scrolled": true
   },
   "outputs": [],
   "source": [
    "plt.imshow(kitten)"
   ]
  },
  {
   "cell_type": "markdown",
   "metadata": {},
   "source": [
    "### Размерности изображений\n",
    "\n",
    "Часто возникает проблема, когда изображение хранится в \"сыром\" виде с неправильным порядком каналов, например не `(высота, ширина, число каналов)`, а `(число каналов, высота, ширина)`.\n",
    "\n",
    "Такая же проблема часто появляется при обработке изображений с помощью библиотек глубокого обучения: в Theano каналы идут до высоты, в Tensorflow - после ширины. Соответственно, может возникнуть задача переводить одно представление в другое.\n",
    "\n",
    "Рассмотрим пример: дан numpy массив `data`, содержащий изображение, в котором каналы располагаются по горизонтали."
   ]
  },
  {
   "cell_type": "code",
   "execution_count": null,
   "metadata": {},
   "outputs": [],
   "source": [
    "data = np.load(\"shaped_incorrectly.npy\")\n",
    "print(data.shape)\n",
    "plt.imshow(data)"
   ]
  },
  {
   "cell_type": "code",
   "execution_count": null,
   "metadata": {},
   "outputs": [],
   "source": [
    "result = data.reshape((150, 3, 150)) # резрежем изображение на три квадрата по горизонтали\n",
    "result = np.dstack([result[:, i, :] for i in range(3)]) # составим из трёх изображений (150, 150) одно (150, 150, 3)"
   ]
  },
  {
   "cell_type": "code",
   "execution_count": null,
   "metadata": {},
   "outputs": [],
   "source": [
    "plt.imshow(result)"
   ]
  },
  {
   "cell_type": "markdown",
   "metadata": {},
   "source": [
    "Поскольку задача типичная, существует более традиционый метод переставить оси `(150, 3, 150) -> (150, 150, 3)`: `np.swapaxes(result, -1, 1)`"
   ]
  },
  {
   "cell_type": "markdown",
   "metadata": {},
   "source": [
    "### Пример задачи поиска описывающего прямоугольника\n",
    "\n",
    "Рассмотрим простую задачу. Пусть дано изображение тёмного котёнка на фоне зелёной травы. Требуется найти описывающий прямоугольник (такой, чтобы весь котёнок оказался внутри).\n",
    "\n",
    "Посмотрим на значения каналов:"
   ]
  },
  {
   "cell_type": "code",
   "execution_count": null,
   "metadata": {},
   "outputs": [],
   "source": [
    "f, ax = plt.subplots(1, 3) # создадим сетку, в которую будем выводить картинки\n",
    "f.set_dpi(100)             # повысим чёткость изображений\n",
    "for i in range(3):\n",
    "    ax[i].set_title(\"rgb\"[i])                 # поставим подпись, соответствующую номеру канала\n",
    "    ax[i].imshow(kitten[..., i], cmap=\"gray\") # выведем значение канала с чёрно-белой цветовой схемой\n",
    "f.tight_layout() # добавим границы, чтобы графики не наезжали друг на друга"
   ]
  },
  {
   "cell_type": "markdown",
   "metadata": {},
   "source": [
    "Заметим, что синий канал самый тусклый, а зелёный ярче красного почти только на траве.\n",
    "\n",
    "Значит для пикселей вокруг котёнка выполнено: $g > r$. Тогда пикселям котёнка соответствует обратное неравенство.\n",
    "\n",
    "Проверим это:"
   ]
  },
  {
   "cell_type": "code",
   "execution_count": null,
   "metadata": {
    "scrolled": true
   },
   "outputs": [],
   "source": [
    "r = kitten[..., 0] # берём все значения по высоте и ширине, фиксируя только номер канала. Равносильно kitten[:, :, 0]\n",
    "g = kitten[..., 1]\n",
    "mask = r > g\n",
    "plt.imshow(mask, cmap=\"gray\")\n",
    "print(f\"Результат - матрица типа {mask.dtype}\")"
   ]
  },
  {
   "cell_type": "markdown",
   "metadata": {},
   "source": [
    "Переберём все строки чтобы найти верхнюю и нижнюю границы описывающиего прямоугольника:"
   ]
  },
  {
   "cell_type": "code",
   "execution_count": null,
   "metadata": {},
   "outputs": [],
   "source": [
    "%%time\n",
    "\n",
    "top = mask.shape[0]\n",
    "bottom = 0\n",
    "for row in range(mask.shape[0]): # проходим по всем строкам\n",
    "    if mask[row, :].sum() > 0:   # проверяем, что в строке есть хоть один элемент равный true \n",
    "        top = min(top, row)\n",
    "        bottom = max(bottom, row)\n",
    "print(f\"Top: {top}, bottom: {bottom}\")"
   ]
  },
  {
   "cell_type": "markdown",
   "metadata": {},
   "source": [
    "Аналогично поступим со столбцами:"
   ]
  },
  {
   "cell_type": "code",
   "execution_count": null,
   "metadata": {},
   "outputs": [],
   "source": [
    "%%time\n",
    "\n",
    "left = mask.shape[1]\n",
    "right = 0\n",
    "for col in range(mask.shape[1]): # проходим по всем столбцам\n",
    "    if mask[:, col].sum() > 0:\n",
    "        left = min(left, col)\n",
    "        right = max(right, col)\n",
    "print(f\"Left: {left}, right: {right}\")"
   ]
  },
  {
   "cell_type": "markdown",
   "metadata": {},
   "source": [
    "Отметим, что более правильно в данном случае было бы не использовать циклы Python,\n",
    "отдав предпочтение `np.where`.\n",
    "Для этого можно воспользоваться вспомогательным методом `np.any`, позволяющим определить есть ли хотя бы один истинный (True) элемент в строке для каждой строки: `np.any(mask, axis=1)`, и аналогично для столбцов: `np.any(mask, axis=0)`.\n",
    "Результат работы `np.where` - кортеж (tuple) с массивами индексов истинных (True) элементов. Каждый элемент кортежа соответствует индексам своей оси. Если применять `np.where` к массиву с одной осью (измерением), кортеж будет содержать всего один элемент.\n",
    "\n",
    "Реализуем более эффективный поиск описывающего прямоугольника с помощью этих операций:"
   ]
  },
  {
   "cell_type": "code",
   "execution_count": null,
   "metadata": {},
   "outputs": [],
   "source": [
    "%%time\n",
    "\n",
    "vertical_indices = np.where(np.any(mask, axis=1))[0]\n",
    "top, bottom = vertical_indices[0], vertical_indices[-1]\n",
    "\n",
    "horizontal_indices = np.where(np.any(mask, axis=0))[0]\n",
    "left, right = horizontal_indices[0], horizontal_indices[-1]\n",
    "\n",
    "print(f\"Top: {top}, bottom: {bottom}\")\n",
    "print(f\"Left: {left}, right: {right}\")"
   ]
  },
  {
   "cell_type": "markdown",
   "metadata": {},
   "source": [
    "Заметим, что время работы значительно уменьшилось."
   ]
  },
  {
   "cell_type": "markdown",
   "metadata": {},
   "source": [
    "Нарисуем описывающий прямоугольник поверх изображения с помощью `matplotlib.patches`:"
   ]
  },
  {
   "cell_type": "code",
   "execution_count": null,
   "metadata": {},
   "outputs": [],
   "source": [
    "from matplotlib.patches import Rectangle\n",
    "\n",
    "f, ax = plt.subplots(1, 1)\n",
    "ax.imshow(kitten)\n",
    "\n",
    "corner = (left, top)\n",
    "height = bottom - top\n",
    "width = right - left\n",
    "ax.add_patch(Rectangle(corner, width, height, linewidth=5, edgecolor='b', facecolor='none'))"
   ]
  },
  {
   "cell_type": "markdown",
   "metadata": {},
   "source": [
    "---\n",
    "### Задание 1.\n",
    "\n",
    "Дано изображение:"
   ]
  },
  {
   "cell_type": "code",
   "execution_count": null,
   "metadata": {
    "scrolled": true
   },
   "outputs": [],
   "source": [
    "from skimage.color import rgb2gray, rgba2rgb\n",
    "airplane = imread(\"airplane.jpg\")\n",
    "plt.imshow(airplane)"
   ]
  },
  {
   "cell_type": "markdown",
   "metadata": {},
   "source": [
    "Посмотрим гистограммы интенсивностей пикселей внутри двух прямоугольников: с объектом и без него."
   ]
  },
  {
   "cell_type": "code",
   "execution_count": null,
   "metadata": {},
   "outputs": [],
   "source": [
    "f, ax = plt.subplots(2, 2)  # создадим сетку, в которую будем выводить картинки\n",
    "f.set_dpi(100)              # повысим чёткость изображений\n",
    "\n",
    "airplane_object     = airplane[150:350, 480:680]\n",
    "airplane_background = airplane[150:350, 650:850]\n",
    "\n",
    "ax[0, 0].set_title(\"объект\")\n",
    "ax[0, 1].set_title(\"фон\")\n",
    "ax[0, 0].imshow(airplane_object, cmap=\"gray\")\n",
    "ax[0, 1].imshow(airplane_background, cmap=\"gray\")\n",
    "# выведем гистограмму синего канала куска изображения с объектом\n",
    "ax[1, 0].hist(airplane_object[..., 2].ravel(), density=True)  # `density=True` - нормировка\n",
    "ax[1, 1].hist(airplane_background[..., 2].ravel(), density=True)\n",
    "for a in ax[1]: a.set_xlim([0, 255])\n",
    "\n",
    "f.tight_layout()  # добавим границы, чтобы графики не наезжали друг на друга"
   ]
  },
  {
   "cell_type": "markdown",
   "metadata": {},
   "source": [
    "*В коде `ravel` (англ. \"запутывать\") склеивает все размерности в одну. В данном случае `(150, 150) -> (22500,)`*"
   ]
  },
  {
   "cell_type": "markdown",
   "metadata": {},
   "source": [
    "**Задача: подобрать два изображения, на которых объект:**\n",
    "* имеет гистограмму, аналогичную гистограмме фона, ответ сохранить в файл `hist_same_comparison.png`;\n",
    "* имеет гистограмму, сильно отличающуюся от фона, ответ сохранить в файл `hist_different_comparison.png`.\n",
    "\n",
    "*Изображения надо поместить в папку с ноутбуком.*"
   ]
  },
  {
   "cell_type": "markdown",
   "metadata": {},
   "source": [
    "Гистограммы близки:"
   ]
  },
  {
   "cell_type": "code",
   "execution_count": null,
   "metadata": {},
   "outputs": [],
   "source": [
    "first_img = imread(\"<your image>\")\n",
    "f, ax = plt.subplots(2, 2)\n",
    "f.set_dpi(100)\n",
    "\n",
    "first_object     = first_img[150:350, 480:680]  # координаты можно менять\n",
    "first_background = first_img[150:350, 650:850]  # координаты можно менять\n",
    "\n",
    "ax[0, 0].set_title(\"объект\")\n",
    "ax[0, 1].set_title(\"фон\")\n",
    "ax[0, 0].imshow(first_object, cmap=\"gray\")\n",
    "ax[0, 1].imshow(first_background, cmap=\"gray\")\n",
    "ax[1, 0].hist(rgb2gray(first_object).flatten())\n",
    "ax[1, 1].hist(rgb2gray(first_background).flatten())\n",
    "\n",
    "f.tight_layout()\n",
    "plt.savefig(\"hist_same_comparison.png\", dpi=100)"
   ]
  },
  {
   "cell_type": "markdown",
   "metadata": {},
   "source": [
    "Гистограммы различны:"
   ]
  },
  {
   "cell_type": "code",
   "execution_count": null,
   "metadata": {},
   "outputs": [],
   "source": [
    "second_img = imread(\"<your image>\")\n",
    "f, ax = plt.subplots(2, 2)\n",
    "f.set_dpi(100)\n",
    "\n",
    "second_object     = second_img[150:350, 480:680]  # координаты можно менять\n",
    "second_background = second_img[150:350, 650:850]  # координаты можно менять\n",
    "\n",
    "ax[0, 0].set_title(\"объект\")\n",
    "ax[0, 1].set_title(\"фон\")\n",
    "ax[0, 0].imshow(second_object, cmap=\"gray\")\n",
    "ax[0, 1].imshow(second_background, cmap=\"gray\")\n",
    "ax[1, 0].hist(rgb2gray(second_object).flatten())\n",
    "ax[1, 1].hist(rgb2gray(second_background).flatten())\n",
    "\n",
    "f.tight_layout()\n",
    "plt.savefig(\"hist_different_comparison.png\", dpi=100)"
   ]
  },
  {
   "cell_type": "markdown",
   "metadata": {},
   "source": [
    "---"
   ]
  },
  {
   "cell_type": "markdown",
   "metadata": {},
   "source": [
    "### Задание 2.\n",
    "\n",
    "Установим библиотеку `scikit-image`, включающую `skimage.feature` и `skimage.filters`:"
   ]
  },
  {
   "cell_type": "code",
   "execution_count": null,
   "metadata": {},
   "outputs": [],
   "source": [
    "!pip install -U scikit-image"
   ]
  },
  {
   "cell_type": "markdown",
   "metadata": {},
   "source": [
    "Ниже приведён пример поиска границ для изображения `lena`.\n",
    "\n",
    "Требуется подобрать параметр `sigma` так, чтобы границы начали выделяться адекватно (должны получаться длинные непрерывные кривые).\n",
    "\n",
    "При желании можно менять другие параметры, но необходимо следить за тем, чтобы результат сохранился в файл `lena_edges.png`.\n",
    "\n",
    "Дополнительно можно посмотреть доступные фильтры в [skimage.filters](http://scikit-image.org/docs/dev/api/skimage.filters.html)"
   ]
  },
  {
   "cell_type": "code",
   "execution_count": null,
   "metadata": {},
   "outputs": [],
   "source": [
    "from skimage.feature import canny\n",
    "from skimage.filters import sobel, gaussian\n",
    "\n",
    "lena = imread(\"lena.png\")\n",
    "\n",
    "lena_gray = rgb2gray(rgba2rgb(lena))\n",
    "lena_gray_blur = gaussian(lena_gray, 3)\n",
    "lena_edges = canny(lena_gray, sigma=0.1, low_threshold=0.05)\n",
    "\n",
    "f, ax = plt.subplots(1, 2, figsize=(10, 5))\n",
    "ax[0].set_title(\"Lena\")\n",
    "ax[1].set_title(\"Edges\")\n",
    "ax[0].imshow(lena)\n",
    "ax[1].imshow(lena_edges, cmap=\"gray\")\n",
    "\n",
    "plt.savefig(\"lena_edges.png\", dpi=200)"
   ]
  },
  {
   "cell_type": "markdown",
   "metadata": {},
   "source": [
    "---"
   ]
  },
  {
   "cell_type": "markdown",
   "metadata": {},
   "source": [
    "## 3. Работа с видео\n",
    "\n",
    "Установим библиотеку opencv:"
   ]
  },
  {
   "cell_type": "code",
   "execution_count": null,
   "metadata": {},
   "outputs": [],
   "source": [
    "!pip install -U opencv-contrib-python-headless==4.5.2.54"
   ]
  },
  {
   "cell_type": "markdown",
   "metadata": {},
   "source": [
    "*Обратите внимание, что библиотека OpenCV по умолчанию не включает contrib-модули, содержащие большое число различных алгоритмов. В [репозитории](https://pypi.org/project/opencv-python/) есть готовые сборки, вроде `opencv-contrib-python`. Но ставить можно только **один** из пакетов, иначе могут возникать ошибки. Также, мы установили headless-версию, поскольку не планируем использовать GUI.*"
   ]
  },
  {
   "cell_type": "markdown",
   "metadata": {},
   "source": [
    "В случае, если количество кадров велико, лучше производить обработку кадров сразу после загрузки.\n",
    "Однако в данном случае кадров всего 249, поэтому загрузим все кадры видео в список:"
   ]
  },
  {
   "cell_type": "code",
   "execution_count": null,
   "metadata": {},
   "outputs": [],
   "source": [
    "%%time\n",
    "import cv2\n",
    "\n",
    "cap = cv2.VideoCapture(\"./poly_pin.mp4\")\n",
    "\n",
    "frames_list = []\n",
    "cur_frame = cap.get(cv2.CAP_PROP_POS_FRAMES)\n",
    "while True:\n",
    "    ready, frame = cap.read()\n",
    "    if ready:\n",
    "        downsampled = cv2.resize(frame, (0,0), fx=0.25, fy=0.25)\n",
    "        frames_list.append(downsampled)\n",
    "        cur_frame = cap.get(cv2.CAP_PROP_POS_FRAMES)\n",
    "    else: # не удалось загрузить кадр\n",
    "        cap.set(cv2.CAP_PROP_POS_FRAMES, cur_frame - 1)\n",
    "\n",
    "    if cap.get(cv2.CAP_PROP_POS_FRAMES) == cap.get(cv2.CAP_PROP_FRAME_COUNT):\n",
    "        print(f\"Все кадры загружены ({len(frames_list)} кадров)\")\n",
    "        break"
   ]
  },
  {
   "cell_type": "markdown",
   "metadata": {},
   "source": [
    "Преобразуем кадры в массив `NumPy`:"
   ]
  },
  {
   "cell_type": "code",
   "execution_count": null,
   "metadata": {},
   "outputs": [],
   "source": [
    "%%time\n",
    "\n",
    "frames = np.stack(frames_list, axis=0)"
   ]
  },
  {
   "cell_type": "markdown",
   "metadata": {},
   "source": [
    "Выведем первый и последний кадры:"
   ]
  },
  {
   "cell_type": "code",
   "execution_count": null,
   "metadata": {},
   "outputs": [],
   "source": [
    "fig, ax = plt.subplots(1, 2, figsize=(10, 5))\n",
    "ax[0].imshow(frames[0])\n",
    "ax[1].imshow(frames[-1])\n",
    "ax[0].set_title(\"Первый кадр\")\n",
    "ax[1].set_title(\"Последний кадр\");"
   ]
  },
  {
   "cell_type": "markdown",
   "metadata": {},
   "source": [
    "Попробуем отследить положение значка на видео:"
   ]
  },
  {
   "cell_type": "code",
   "execution_count": null,
   "metadata": {},
   "outputs": [],
   "source": [
    "# Задаём начальное положение значка\n",
    "x, y, w, h = 500 // 4, 300 // 4, 400 // 4, 400 // 4\n",
    "bbox = (x, y, w, h)\n",
    "\n",
    "frames_with_boxes = frames.copy()\n",
    "\n",
    "# Создаём трекер\n",
    "tracker = cv2.TrackerMIL_create() # The Tracker uses an algorithm which trains a classifier to separate the object from the background\n",
    "tracker.init(frames[0], bbox)\n",
    "# Рисуем красный описывающий прямоугольник на изображении\n",
    "cv2.rectangle(\n",
    "    frames_with_boxes[0],\n",
    "    (x, y),  # левый верхний угол\n",
    "    (x + w, y + h),  # правый нижний угол\n",
    "    (255, 0, 0),  # цвет\n",
    "    20  # толщина линии\n",
    ")\n",
    "\n",
    "for frame_num, frame in enumerate(frames[1:], 1):\n",
    "    (success, new_bbox) = tracker.update(frame)\n",
    "    int_bbox = [int(i) for i in new_bbox]\n",
    "    (nx, ny, nw, nh) = int_bbox\n",
    "    cv2.rectangle(frames_with_boxes[frame_num], (nx, ny), (nx + nw, ny + nh), (255,0,0), 20)"
   ]
  },
  {
   "cell_type": "markdown",
   "metadata": {},
   "source": [
    "Посмотрим на несколько кадров:"
   ]
  },
  {
   "cell_type": "code",
   "execution_count": null,
   "metadata": {},
   "outputs": [],
   "source": [
    "%matplotlib inline\n",
    "fig, ax = plt.subplots(1, 3, figsize=(10, 5))\n",
    "for i, f_num in enumerate([0, 150, -1]):\n",
    "    ax[i].imshow(frames_with_boxes[f_num])"
   ]
  },
  {
   "cell_type": "markdown",
   "metadata": {},
   "source": [
    "Понизим разрешение изображений, чтобы отобразить анимацию в ноутбуке:"
   ]
  },
  {
   "cell_type": "code",
   "execution_count": null,
   "metadata": {},
   "outputs": [],
   "source": [
    "downsampled = []\n",
    "ds = 4  # downsampling factor\n",
    "\n",
    "for frame in frames_with_boxes:\n",
    "    downsampled.append(cv2.resize(frame, (frame.shape[1] // ds, frame.shape[0] // ds)))"
   ]
  },
  {
   "cell_type": "markdown",
   "metadata": {},
   "source": [
    "*Если вы запускаете код в `Jupyter Lab`, то режим `notebook` ниже будет недоступен и могут вознинкуть проблемы с отображением анимации (их можно проигнорировать и перейти к следующей части).*"
   ]
  },
  {
   "cell_type": "code",
   "execution_count": null,
   "metadata": {},
   "outputs": [],
   "source": [
    "%matplotlib notebook\n",
    "from matplotlib import animation\n",
    "from IPython.display import HTML\n",
    "\n",
    "fig, ax = plt.subplots()\n",
    "l = ax.imshow(downsampled[0])\n",
    "\n",
    "def animate(i):\n",
    "    l.set_data(downsampled[i])\n",
    "\n",
    "ani = animation.FuncAnimation(fig, animate, frames=100) # len(frames)\n",
    "\n",
    "HTML(ani.to_jshtml())"
   ]
  },
  {
   "cell_type": "markdown",
   "metadata": {},
   "source": [
    "## 4. Работа с табличными данными: Pandas\n",
    "\n",
    "Pandas - популярный пакет для анализа данных. С помощью него можно загружать датасеты различных форматов, производить отбор признаков, быстро строить графики по подмножествам данных и т.п.\n",
    "\n",
    "Основных сущностей в Pandas две:\n",
    "* DataFrame - таблица, включающая информацию о типе и названии каждого столбца, вместе с данными;\n",
    "* Series - последовательность значений, например, значения столбца таблицы.\n",
    "\n",
    "Подключим Pandas и загрузим датасет \"Titanic\":"
   ]
  },
  {
   "cell_type": "code",
   "execution_count": null,
   "metadata": {},
   "outputs": [],
   "source": [
    "import pandas as pd\n",
    "\n",
    "titanic = pd.read_csv(\"titanic.csv\")"
   ]
  },
  {
   "cell_type": "code",
   "execution_count": null,
   "metadata": {
    "scrolled": true
   },
   "outputs": [],
   "source": [
    "titanic.head()  # выведем заголовки столбцов и первые 5 строк"
   ]
  },
  {
   "cell_type": "markdown",
   "metadata": {},
   "source": [
    "Видно, что данные неправильно разбились на столбцы. Чтобы это исправить поменяем разделитель:"
   ]
  },
  {
   "cell_type": "code",
   "execution_count": null,
   "metadata": {
    "scrolled": true
   },
   "outputs": [],
   "source": [
    "titanic = pd.read_csv(\"titanic.csv\", delimiter=\"\\t\")\n",
    "titanic.head()"
   ]
  },
  {
   "cell_type": "code",
   "execution_count": null,
   "metadata": {
    "scrolled": true
   },
   "outputs": [],
   "source": [
    "titanic.describe()"
   ]
  },
  {
   "cell_type": "markdown",
   "metadata": {},
   "source": [
    "Из описания видно, что `PassengerId` - просто номер строки, который можно исключить, а `Pclass` - категориальная переменная. Избавимся от столбца `PassengerId`:"
   ]
  },
  {
   "cell_type": "code",
   "execution_count": null,
   "metadata": {},
   "outputs": [],
   "source": [
    "titanic = titanic.drop(columns=[\"PassengerId\"])"
   ]
  },
  {
   "cell_type": "markdown",
   "metadata": {},
   "source": [
    "Посмотрим на гистограмму классов (`Pclass`):"
   ]
  },
  {
   "cell_type": "code",
   "execution_count": null,
   "metadata": {},
   "outputs": [],
   "source": [
    "%matplotlib inline\n",
    "titanic.groupby(titanic['Pclass']).Pclass.count().plot(kind='bar')"
   ]
  },
  {
   "cell_type": "markdown",
   "metadata": {},
   "source": [
    "Попробуем найти правило, по которому можно определить принадлежит ли строка \"выжившим\".\n",
    "\n",
    "Взглянем на гистограммы возраста \"выживших\" (тех, у кого `Survived = 1`) и не \"выживших\":"
   ]
  },
  {
   "cell_type": "code",
   "execution_count": null,
   "metadata": {},
   "outputs": [],
   "source": [
    "f, (ax1, ax2) = plt.subplots(1, 2)\n",
    "ax1.set_title(\"Survived\")\n",
    "titanic[titanic.Survived == 1].Age.hist(ax=ax1, range=(0, 60))\n",
    "titanic[titanic.Survived == 0].Age.hist(ax=ax2, range=(0, 60))"
   ]
  },
  {
   "cell_type": "markdown",
   "metadata": {},
   "source": [
    "Поскольку гистограммы различны, скорее всего получится научиться отделять \"выживших\" от не \"выживших\".\n",
    "\n",
    "Выберем все строки с возрастом от 20 до 60 - для этого воспользуемся методом `query`, и посмотрим отдельно на гистограммы возраста и \"выживаемости\" для мужчин:"
   ]
  },
  {
   "cell_type": "code",
   "execution_count": null,
   "metadata": {},
   "outputs": [],
   "source": [
    "titanic_middle_age = titanic.query(\"Age > 20 and Age < 60\")"
   ]
  },
  {
   "cell_type": "code",
   "execution_count": null,
   "metadata": {},
   "outputs": [],
   "source": [
    "titanic_middle_age_male = titanic_middle_age.query(\"Sex == 'male'\")\n",
    "titanic_middle_age_male.query(\"Survived == 1\").hist(column=[\"Age\", \"SibSp\"])\n",
    "plt.tight_layout()"
   ]
  },
  {
   "cell_type": "code",
   "execution_count": null,
   "metadata": {
    "scrolled": true
   },
   "outputs": [],
   "source": [
    "titanic_middle_age_male.query(\"Survived == 0\").hist(column=[\"Age\", \"SibSp\"])\n",
    "plt.tight_layout()"
   ]
  },
  {
   "cell_type": "markdown",
   "metadata": {},
   "source": [
    "Из этих гистограмм можно \"на глаз\" оценить множество почти точно \"не выживших\":"
   ]
  },
  {
   "cell_type": "code",
   "execution_count": null,
   "metadata": {
    "scrolled": true
   },
   "outputs": [],
   "source": [
    "titanic_middle_age_male.query(\"Age > 34 or SibSp > 0.1\").Survived.hist()"
   ]
  },
  {
   "cell_type": "markdown",
   "metadata": {},
   "source": [
    "---\n",
    "### Задание 3.\n",
    "\n",
    "Найдите аналогичный простой запрос (`query`), для заданного датафрейма `titanic_middle_age_female`, разделяющий множество по критерию `Survived` на два подмножества: \"точно не выжившие\" и \"возможно выжившие\", или наоборот.\n",
    "\n",
    "_Пояснение_: в множестве \"точно не выживших\" должны попасть только те объекты, для которых `Survived == 1`. В множество \"возможно выживших\" попадают все остальные объекты, у них может быть как `Survived == 0`, так и `Survived == 1`.\n",
    "\n",
    "**Гистограмма с результатом применения вашего запроса должна быть сохранена в файл `titanic_survival.png`.**"
   ]
  },
  {
   "cell_type": "code",
   "execution_count": null,
   "metadata": {},
   "outputs": [],
   "source": [
    "titanic_middle_age_female = titanic_middle_age.query(\"Sex == 'female'\")\n",
    "titanic_middle_age_female.query(\"Survived == 1\").hist(column=[\"Age\", \"SibSp\"])\n",
    "plt.tight_layout()"
   ]
  },
  {
   "cell_type": "code",
   "execution_count": null,
   "metadata": {},
   "outputs": [],
   "source": [
    "titanic_middle_age_female.query(\"SibSp > 0\").Survived.hist()\n",
    "plt.savefig(\"titanic_survival.png\")"
   ]
  },
  {
   "cell_type": "markdown",
   "metadata": {},
   "source": [
    "---"
   ]
  },
  {
   "cell_type": "markdown",
   "metadata": {},
   "source": [
    "## 4. Бинаризация"
   ]
  },
  {
   "cell_type": "code",
   "execution_count": null,
   "metadata": {},
   "outputs": [],
   "source": [
    "from skimage.filters import try_all_threshold\n",
    "\n",
    "img = imread('./horse.jpg')\n",
    "fig, ax = try_all_threshold(rgb2gray(img), figsize=(15, 15), verbose=False)\n",
    "plt.show()"
   ]
  },
  {
   "cell_type": "markdown",
   "metadata": {},
   "source": [
    "Посмотрим как можно улучшить результат с помощью предобработки:"
   ]
  },
  {
   "cell_type": "code",
   "execution_count": null,
   "metadata": {},
   "outputs": [],
   "source": [
    "from skimage.filters import gaussian\n",
    "\n",
    "img_blur = gaussian(img, sigma=1.5, multichannel=True)\n",
    "\n",
    "fig, ax = try_all_threshold(rgb2gray(img_blur), figsize=(15, 15), verbose=False)\n",
    "plt.show()"
   ]
  },
  {
   "cell_type": "markdown",
   "metadata": {},
   "source": [
    "Рассмотрим результат бинаризации Оцу:"
   ]
  },
  {
   "cell_type": "code",
   "execution_count": null,
   "metadata": {},
   "outputs": [],
   "source": [
    "from skimage.filters import threshold_otsu\n",
    "\n",
    "img_blur_gray = rgb2gray(img_blur)\n",
    "thresh_otsu = threshold_otsu(img_blur_gray)\n",
    "res_otsu = img_blur_gray <= thresh_otsu\n",
    "\n",
    "plt.imshow(res_otsu, cmap='gray')\n",
    "plt.axis('off')"
   ]
  },
  {
   "cell_type": "markdown",
   "metadata": {},
   "source": [
    "Видно, что в целом результат неплохой, но справа от объекта осталось несколько мелких пятен.\n",
    "\n",
    "Посмотрим как можно избавиться от этих пятен:\n",
    "\n",
    "Нужные морфологические операции реализованы в библиотеке [skimage.morphology](http://scikit-image.org/docs/dev/api/skimage.morphology.html). Подключим их"
   ]
  },
  {
   "cell_type": "code",
   "execution_count": null,
   "metadata": {},
   "outputs": [],
   "source": [
    "from skimage.morphology import binary_opening\n",
    "\n",
    "res_otsu_enclosed = binary_opening(res_otsu, selem=np.ones((5, 5)))\n",
    "\n",
    "plt.imshow(res_otsu_enclosed, cmap='gray')\n",
    "plt.axis('off')"
   ]
  },
  {
   "cell_type": "markdown",
   "metadata": {},
   "source": [
    "От части пятен удалось избавиться. При этом видно, что вблизи гривы маска стала значительно более гладкой, из-за применения `binary_opening`.\n",
    "\n",
    "*Если бы внутри объекта были дырки, их можно было бы закрасить по аналогии, используя метод* `binary_closing(img) = binary_erosion(binary_dilation(img))`.\n",
    "\n",
    "Проведём анализ компонент связности на маске:"
   ]
  },
  {
   "cell_type": "code",
   "execution_count": null,
   "metadata": {},
   "outputs": [],
   "source": [
    "from skimage.measure import regionprops\n",
    "from skimage.measure import label as sk_measure_label # импортировать под другим именем, чтобы не терять, если появляется переменная label\n",
    "\n",
    "def get_largest_component(mask):\n",
    "    labels = sk_measure_label(mask) # разбиение маски на компоненты связности\n",
    "    props = regionprops(labels) # нахождение свойств каждой области (положение центра, площадь, bbox, интервал интенсивностей и т.д.)\n",
    "    areas = [prop.area for prop in props] # нас интересуют площади компонент связности\n",
    "\n",
    "    print(\"Значения площади для каждой компоненты связности: {}\".format(areas))\n",
    "    largest_comp_id = np.array(areas).argmax() # находим номер компоненты с максимальной площадью\n",
    "\n",
    "    print(\"labels - матрица, заполненная индексами компонент связности со значениями из множества: {}\".format(np.unique(labels)))\n",
    "    return labels == (largest_comp_id + 1) # области нумеруются с 1, поэтому надо прибавить 1 к индексу\n",
    "\n",
    "plt.imshow(get_largest_component(res_otsu_enclosed), cmap='gray')\n",
    "plt.axis('off')"
   ]
  },
  {
   "cell_type": "markdown",
   "metadata": {},
   "source": [
    "---\n",
    "### Задание 4.\n",
    "\n",
    "Подберите изображение, на котором объект достаточно чётко отделим от фона. Выделите на нём объект при помощи бинаризации, морфологических операций и анализа компонент связности, по аналогии с примером выше."
   ]
  },
  {
   "cell_type": "code",
   "execution_count": null,
   "metadata": {},
   "outputs": [],
   "source": [
    "first_image = imread('<your image>')\n",
    "# Ваш код"
   ]
  },
  {
   "cell_type": "markdown",
   "metadata": {},
   "source": [
    "Сохраните результат (маску объекта) в файл `task_4.png`.\n",
    "\n",
    "---"
   ]
  },
  {
   "cell_type": "markdown",
   "metadata": {},
   "source": [
    "**Локальные методы**\n",
    "\n",
    "В случае, если объект отчётливо виден, но на изображении неравномерное освещение, полезны локальные методы.\n",
    "\n",
    "Ниже приведены изображения, содержащие локальные пороговые значения:"
   ]
  },
  {
   "cell_type": "code",
   "execution_count": null,
   "metadata": {},
   "outputs": [],
   "source": [
    "from skimage.data import page\n",
    "from skimage.filters import threshold_local\n",
    "\n",
    "page_img = page()\n",
    "\n",
    "fig, ax = plt.subplots(1, 4, figsize=(15, 6))\n",
    "ax[0].imshow(page_img, cmap='gray')\n",
    "ax[1].imshow(threshold_local(page_img, 31, method='mean'), cmap='gray')\n",
    "ax[2].imshow(threshold_local(page_img, 31, method='gaussian'), cmap='gray')\n",
    "ax[3].imshow(threshold_local(page_img, 31, method='median'), cmap='gray')\n",
    "for i in range(4): ax[i].set_axis_off()\n",
    "\n",
    "for i, title in enumerate([\"Input\", \"Mean\", \"Gaussian\", \"Median\"]): ax[i].set_title(title)"
   ]
  },
  {
   "cell_type": "markdown",
   "metadata": {},
   "source": [
    "Как видно, локальные пороговые значения состовляют что-то вроде карты освещения. Эту карту можно можно использовать для бинаризации. *Аналогичная идея используется и просто для выравнивания освещения (Single-Scale Retinex) на изображении.*\n",
    "\n",
    "Выделим объекты с помощью полученных локальных пороговых значений:"
   ]
  },
  {
   "cell_type": "code",
   "execution_count": null,
   "metadata": {},
   "outputs": [],
   "source": [
    "fig, ax = plt.subplots(1, 4, figsize=(15, 6))\n",
    "ax[0].imshow(page_img >= threshold_otsu(page_img), cmap='gray')\n",
    "ax[1].imshow(page_img >= threshold_local(page_img, 31, method='mean'), cmap='gray')\n",
    "ax[2].imshow(page_img >= threshold_local(page_img, 31, method='gaussian'), cmap='gray')\n",
    "ax[3].imshow(page_img >= threshold_local(page_img, 31, method='median'), cmap='gray')\n",
    "for i in range(4): ax[i].set_axis_off()\n",
    "\n",
    "for i, title in enumerate([\"Otsu\", \"Local: Mean\", \"Local: Gaussian\", \"Local: Median\"]): ax[i].set_title(title)"
   ]
  },
  {
   "cell_type": "markdown",
   "metadata": {},
   "source": [
    "---\n",
    "### Задание 5.\n",
    "\n",
    "Подберите изображение, на котором обычная бинаризация даёт плохие результаты, когда как локальная позволяет получить результаты гораздо лучше. Найдите наиболее подходящие параметры метода `threshold_local`."
   ]
  },
  {
   "cell_type": "code",
   "execution_count": null,
   "metadata": {},
   "outputs": [],
   "source": [
    "img_local = imread('<your image>')\n",
    "\n",
    "fig, ax = plt.subplots(1, 4, figsize=(15, 6))\n",
    "ax[0].imshow(img_local >= threshold_otsu(img_local), cmap='gray')\n",
    "ax[1].imshow(img_local >= threshold_local(img_local, 31, method='mean'), cmap='gray')\n",
    "ax[2].imshow(img_local >= threshold_local(img_local, 31, method='gaussian'), cmap='gray')\n",
    "ax[3].imshow(img_local >= threshold_local(img_local, 31, method='median'), cmap='gray')\n",
    "\n",
    "for i, title in enumerate([\"Otsu\", \"Local: Mean\", \"Local: Gaussian\", \"Local: Median\"]): ax[i].set_title(title)\n",
    "\n",
    "plt.savefig('task_5.png', dpi=150)  # сохраните результат в файл 'task_5.png'!"
   ]
  },
  {
   "cell_type": "markdown",
   "metadata": {},
   "source": [
    "Сохраните результат в файл `task_5.png`.\n",
    "\n",
    "---"
   ]
  }
 ],
 "metadata": {
  "kernelspec": {
   "display_name": "Python 3",
   "language": "python",
   "name": "python3"
  },
  "language_info": {
   "codemirror_mode": {
    "name": "ipython",
    "version": 3
   },
   "file_extension": ".py",
   "mimetype": "text/x-python",
   "name": "python",
   "nbconvert_exporter": "python",
   "pygments_lexer": "ipython3",
   "version": "3.8.8"
  }
 },
 "nbformat": 4,
 "nbformat_minor": 4
}
